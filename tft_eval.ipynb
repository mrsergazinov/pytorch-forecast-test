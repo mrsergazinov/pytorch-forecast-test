{
 "cells": [
  {
   "cell_type": "markdown",
   "metadata": {
    "id": "Hy8rV-06wx3C"
   },
   "source": [
    "## Libraries"
   ]
  },
  {
   "cell_type": "code",
   "execution_count": 1,
   "metadata": {
    "colab": {
     "base_uri": "https://localhost:8080/"
    },
    "executionInfo": {
     "elapsed": 5017,
     "status": "ok",
     "timestamp": 1637339338532,
     "user": {
      "displayName": "Renat Sergazinov",
      "photoUrl": "https://lh3.googleusercontent.com/a/default-user=s64",
      "userId": "15048760581635637112"
     },
     "user_tz": 360
    },
    "id": "6iLQap4UVZAY",
    "outputId": "303f19bb-87c9-46a6-ca7f-a26607b2a747"
   },
   "outputs": [],
   "source": [
    "import numpy as np\n",
    "import pandas as pd\n",
    "import os\n",
    "import pickle\n",
    "import matplotlib.pylab as plt\n",
    "\n",
    "import pytorch_lightning as pl\n",
    "from pytorch_lightning.callbacks import EarlyStopping, ModelCheckpoint\n",
    "from pytorch_lightning.loggers import TensorBoardLogger\n",
    "import torch\n",
    "\n",
    "from pytorch_forecasting import Baseline, TemporalFusionTransformer, TimeSeriesDataSet\n",
    "from pytorch_forecasting.metrics import QuantileLoss"
   ]
  },
  {
   "cell_type": "code",
   "execution_count": 2,
   "metadata": {},
   "outputs": [],
   "source": [
    "pd.set_option('display.max_rows', 25000)\n",
    "torch.set_printoptions(threshold=100_000)"
   ]
  },
  {
   "cell_type": "markdown",
   "metadata": {
    "id": "c7cfUAdPw3JP"
   },
   "source": [
    "## Preprocessing Data"
   ]
  },
  {
   "cell_type": "code",
   "execution_count": 3,
   "metadata": {
    "executionInfo": {
     "elapsed": 140,
     "status": "ok",
     "timestamp": 1637339338658,
     "user": {
      "displayName": "Renat Sergazinov",
      "photoUrl": "https://lh3.googleusercontent.com/a/default-user=s64",
      "userId": "15048760581635637112"
     },
     "user_tz": 360
    },
    "id": "mr735k3bVgLK"
   },
   "outputs": [],
   "source": [
    "path = './gludata/data'\n",
    "with open(path+\"/train_data_pyforecast.pkl\", 'rb') as f:\n",
    "      train_data_raw = pickle.load(f)\n",
    "with open(path+\"/val_data_pyforecast.pkl\", 'rb') as f:\n",
    "      val_data_raw = pickle.load(f)\n",
    "with open(path+\"/test_data_pyforecast.pkl\", 'rb') as f:\n",
    "      test_data_raw = pickle.load(f)"
   ]
  },
  {
   "cell_type": "code",
   "execution_count": 5,
   "metadata": {
    "colab": {
     "base_uri": "https://localhost:8080/",
     "height": 358
    },
    "executionInfo": {
     "elapsed": 299617,
     "status": "error",
     "timestamp": 1637339638273,
     "user": {
      "displayName": "Renat Sergazinov",
      "photoUrl": "https://lh3.googleusercontent.com/a/default-user=s64",
      "userId": "15048760581635637112"
     },
     "user_tz": 360
    },
    "id": "e8MygJ1cWL57",
    "outputId": "f8b0a2eb-4dd9-4675-9c85-07897b7d382e"
   },
   "outputs": [],
   "source": [
    "def read_data(data, id_start):\n",
    "    data_len = sum([len(data[i][1]) for i in range(len(data))])\n",
    "    data_pd = pd.DataFrame(index = range(data_len),\n",
    "                           columns = [\"timeidx\", \"id\", \"subject\", \"CGM\", \n",
    "                                      \"dayofyear\", \"dayofmonth\", \"dayofweek\", \"hour\", \n",
    "                                      \"minute\", \"date\"])\n",
    "    start = 0\n",
    "    for i in range(len(data)):\n",
    "        block_len = len(data[i][1]) \n",
    "        data_pd[\"timeidx\"][start:(start+block_len)] = range(block_len)\n",
    "        data_pd[\"id\"][start:(start+block_len)] = [id_start + i] * block_len\n",
    "        data_pd[\"subject\"][start:(start+block_len)] = [data[i][0]] * block_len\n",
    "        data_pd[\"CGM\"][start:(start+block_len)] = data[i][1].flatten() \n",
    "        data_pd[\"date\"][start:(start+block_len)] = data[i][3]\n",
    "        start += block_len\n",
    "    \n",
    "    # set format\n",
    "    data_pd[\"id\"] = data_pd[\"id\"].astype(str).astype(\"string\").astype(\"category\")\n",
    "    data_pd[\"subject\"] = data_pd[\"subject\"].astype(str).astype(\"string\").astype(\"category\")\n",
    "    data_pd[\"CGM\"] = data_pd[\"CGM\"].astype(\"float\")\n",
    "    data_pd[\"timeidx\"] = data_pd[\"timeidx\"].astype(\"int\")\n",
    "    \n",
    "    #extract time features\n",
    "    data_pd[\"date\"] = pd.to_datetime(data_pd[\"date\"])\n",
    "    data_pd[\"dayofyear\"] = data_pd[\"date\"].dt.dayofyear.astype(\"string\").astype(\"category\")\n",
    "    data_pd[\"dayofmonth\"] = data_pd[\"date\"].dt.day.astype(\"string\").astype(\"category\")\n",
    "    data_pd[\"dayofweek\"] = data_pd[\"date\"].dt.dayofweek.astype(\"string\").astype(\"category\")\n",
    "    data_pd[\"hour\"] = data_pd[\"date\"].dt.hour.astype(\"string\").astype(\"category\")\n",
    "    data_pd[\"minute\"] = data_pd[\"date\"].dt.minute.astype(\"string\").astype(\"category\")\n",
    "    \n",
    "    # reset index\n",
    "    data_pd = data_pd.reset_index()\n",
    "    data_pd = data_pd.drop(columns=[\"index\"])\n",
    "    return data_pd\n",
    "\n",
    "train_data_pd = read_data(train_data_raw, 0)\n",
    "train_data_pd_subset = read_data(train_data_raw_subset, 0)\n",
    "val_data_pd = read_data(val_data_raw, len(train_data_raw))\n",
    "test_data_pd = read_data(test_data_raw, len(train_data_raw)+len(val_data_raw))"
   ]
  },
  {
   "cell_type": "code",
   "execution_count": 10,
   "metadata": {
    "id": "ivin0dj-lw2X"
   },
   "outputs": [],
   "source": [
    "test_data = TimeSeriesDataSet(\n",
    "    test_data_pd,\n",
    "    time_idx=\"timeidx\",\n",
    "    target=\"CGM\",\n",
    "    group_ids=[\"id\"],\n",
    "    max_encoder_length=180,\n",
    "    max_prediction_length=12,\n",
    "    static_categoricals=[\"subject\"],\n",
    "    time_varying_known_categoricals= [\"dayofyear\", \n",
    "                                      \"dayofmonth\", \n",
    "                                      \"dayofweek\", \n",
    "                                      \"hour\",\n",
    "                                      \"minute\"],\n",
    "    time_varying_known_reals=[\"timeidx\"],\n",
    "    time_varying_unknown_reals = [\"CGM\"],\n",
    "    scalers=[],\n",
    "    add_relative_time_idx=True,\n",
    "    add_encoder_length=True,\n",
    ")\n",
    "test_dataloader = test_data.to_dataloader(train=False, batch_size=64, num_workers=24)"
   ]
  },
  {
   "cell_type": "markdown",
   "metadata": {
    "id": "ghackwBXkblA"
   },
   "source": [
    "## Evaluate"
   ]
  },
  {
   "cell_type": "code",
   "execution_count": 11,
   "metadata": {},
   "outputs": [],
   "source": [
    "# best_model_path = trainer.checkpoint_callback.best_model_path\n",
    "saved_model_path = './saved_models/tft_001.ckpt'\n",
    "best_tft = TemporalFusionTransformer.load_from_checkpoint(saved_model_path)"
   ]
  },
  {
   "cell_type": "code",
   "execution_count": 12,
   "metadata": {},
   "outputs": [],
   "source": [
    "pred, x = best_tft.predict(test_dataloader, mode='raw', return_x=True)\n",
    "actuals = torch.cat([y[0] for x, y in iter(test_dataloader)])"
   ]
  },
  {
   "cell_type": "code",
   "execution_count": 14,
   "metadata": {},
   "outputs": [],
   "source": [
    "UPPER = 402\n",
    "LOWER = 38\n",
    "SCALE_1 = 5\n",
    "SCALE_2 = 2\n",
    "BATCH_SIZE=1\n",
    "\n",
    "pred = (pred['prediction'] + SCALE_1) / (SCALE_1 * SCALE_2) * (UPPER - LOWER) + LOWER\n",
    "pred_median = pred[:, :, 3] \n",
    "actuals = (actuals + SCALE_1) / (SCALE_1 * SCALE_2) * (UPPER - LOWER) + LOWER"
   ]
  },
  {
   "cell_type": "code",
   "execution_count": 15,
   "metadata": {},
   "outputs": [
    {
     "name": "stdout",
     "output_type": "stream",
     "text": [
      "Length: 3, event: HYPO, ape: 0.04788941144943237, rmse: 3.493262529373169\n",
      "Length: 3, event: HYPER, ape: 0.03284105286002159, rmse: 4.548535346984863\n",
      "Length: 3, event: EVENT, ape: 0.03067588061094284, rmse: 6.7185797691345215\n",
      "Length: 3, event: FULL, ape: 0.03004472516477108, rmse: 5.445246696472168\n",
      "Length: 6, event: HYPO, ape: 0.08740741014480591, rmse: 6.7011613845825195\n",
      "Length: 6, event: HYPER, ape: 0.05418586730957031, rmse: 7.891816139221191\n",
      "Length: 6, event: EVENT, ape: 0.04706926271319389, rmse: 10.835981369018555\n",
      "Length: 6, event: FULL, ape: 0.04703297093510628, rmse: 9.001038551330566\n",
      "Length: 9, event: HYPO, ape: 0.12386848032474518, rmse: 9.628799438476562\n",
      "Length: 9, event: HYPER, ape: 0.0746939480304718, rmse: 10.901311874389648\n",
      "Length: 9, event: EVENT, ape: 0.06265374273061752, rmse: 14.559313774108887\n",
      "Length: 9, event: FULL, ape: 0.06274881958961487, rmse: 12.185905456542969\n",
      "Length: 12, event: HYPO, ape: 0.15511898696422577, rmse: 12.3118896484375\n",
      "Length: 12, event: HYPER, ape: 0.09272212535142899, rmse: 13.673123359680176\n",
      "Length: 12, event: EVENT, ape: 0.07817155122756958, rmse: 18.416784286499023\n",
      "Length: 12, event: FULL, ape: 0.07775405049324036, rmse: 15.163819313049316\n"
     ]
    }
   ],
   "source": [
    "# evaluate on full data set\n",
    "def ape_rmse(actuals, predictions, length, event):\n",
    "    HYPO_THR = 70\n",
    "    HYPER_THR = 180\n",
    "\n",
    "    if event == 'HYPO':\n",
    "        select = (actuals <= HYPO_THR).any(axis=1)\n",
    "    elif event == 'HYPER':\n",
    "        select = (actuals <= HYPER_THR).any(axis=1)\n",
    "    elif event == 'EVENT':\n",
    "        select = ((actuals <= HYPO_THR).any(axis=1) |  (actuals >= HYPER_THR).any(axis=1))\n",
    "    else:\n",
    "        select = range(actuals.shape[0])\n",
    "    actuals = actuals[select, :]\n",
    "    predictions = predictions[select, :]\n",
    "    ape = ((actuals[:, :length] - predictions[:, :length]).abs() / actuals[:, :length].abs()).mean(axis=1).median()\n",
    "    rmse = ((actuals[:, :length] - predictions[:, :length]) ** 2).mean(axis=1).sqrt().median()\n",
    "    return (ape, rmse)\n",
    "\n",
    "lengths = [3, 6, 9 , 12]\n",
    "events = ['HYPO', 'HYPER', 'EVENT', 'FULL']\n",
    "\n",
    "for length in lengths:\n",
    "    for event in events:\n",
    "        print('Length: {0}, event: {1}, ape: {2}, rmse: {3}'.format(length, \n",
    "                                                                    event, \n",
    "                                                                    *ape_rmse(actuals, pred_median, length, event)))"
   ]
  },
  {
   "cell_type": "code",
   "execution_count": 16,
   "metadata": {},
   "outputs": [],
   "source": [
    "pred_one = np.vstack((pred[0, :, 0].numpy(),\n",
    "          pred[0, :, 3].numpy(),\n",
    "          pred[0, :, 6].numpy(),))"
   ]
  },
  {
   "cell_type": "code",
   "execution_count": 17,
   "metadata": {},
   "outputs": [
    {
     "data": {
      "text/plain": [
       "[<matplotlib.lines.Line2D at 0x7f1ee22ba850>,\n",
       " <matplotlib.lines.Line2D at 0x7f1ee231ad90>,\n",
       " <matplotlib.lines.Line2D at 0x7f1ee22ba490>]"
      ]
     },
     "execution_count": 17,
     "metadata": {},
     "output_type": "execute_result"
    },
    {
     "data": {
      "image/png": "[encoded data removed]",
      "text/plain": [
       "<Figure size 432x288 with 1 Axes>"
      ]
     },
     "metadata": {
      "needs_background": "light"
     },
     "output_type": "display_data"
    }
   ],
   "source": [
    "plt.plot(np.transpose(pred_one))"
   ]
  },
  {
   "cell_type": "code",
   "execution_count": null,
   "metadata": {},
   "outputs": [],
   "source": []
  }
 ],
 "metadata": {
  "accelerator": "GPU",
  "colab": {
   "collapsed_sections": [],
   "name": "tft.ipynb",
   "provenance": []
  },
  "kernelspec": {
   "display_name": "Python 3 (ipykernel)",
   "language": "python",
   "name": "python3"
  },
  "language_info": {
   "codemirror_mode": {
    "name": "ipython",
    "version": 3
   },
   "file_extension": ".py",
   "mimetype": "text/x-python",
   "name": "python",
   "nbconvert_exporter": "python",
   "pygments_lexer": "ipython3",
   "version": "3.7.11"
  },
  "widgets": {
   "application/vnd.jupyter.widget-state+json": {
    "0569b8be09b64e46b3818a763a5715e2": {
     "model_module": "@jupyter-widgets/base",
     "model_module_version": "1.2.0",
     "model_name": "LayoutModel",
     "state": {
      "_model_module": "@jupyter-widgets/base",
      "_model_module_version": "1.2.0",
      "_model_name": "LayoutModel",
      "_view_count": null,
      "_view_module": "@jupyter-widgets/base",
      "_view_module_version": "1.2.0",
      "_view_name": "LayoutView",
      "align_content": null,
      "align_items": null,
      "align_self": null,
      "border": null,
      "bottom": null,
      "display": null,
      "flex": null,
      "flex_flow": null,
      "grid_area": null,
      "grid_auto_columns": null,
      "grid_auto_flow": null,
      "grid_auto_rows": null,
      "grid_column": null,
      "grid_gap": null,
      "grid_row": null,
      "grid_template_areas": null,
      "grid_template_columns": null,
      "grid_template_rows": null,
      "height": null,
      "justify_content": null,
      "justify_items": null,
      "left": null,
      "margin": null,
      "max_height": null,
      "max_width": null,
      "min_height": null,
      "min_width": null,
      "object_fit": null,
      "object_position": null,
      "order": null,
      "overflow": null,
      "overflow_x": null,
      "overflow_y": null,
      "padding": null,
      "right": null,
      "top": null,
      "visibility": null,
      "width": null
     }
    },
    "149853bdda75412baab01312d6a8eaf1": {
     "model_module": "@jupyter-widgets/controls",
     "model_module_version": "1.5.0",
     "model_name": "HTMLModel",
     "state": {
      "_dom_classes": [],
      "_model_module": "@jupyter-widgets/controls",
      "_model_module_version": "1.5.0",
      "_model_name": "HTMLModel",
      "_view_count": null,
      "_view_module": "@jupyter-widgets/controls",
      "_view_module_version": "1.5.0",
      "_view_name": "HTMLView",
      "description": "",
      "description_tooltip": null,
      "layout": "IPY_MODEL_adbad04d6d8b4c899261f2de886aebdc",
      "placeholder": "​",
      "style": "IPY_MODEL_b16713f79ae74bd6a505b6361ef73597",
      "value": "Validation sanity check:   0%"
     }
    },
    "1872af1b39e945a1909fa93dd557bc38": {
     "model_module": "@jupyter-widgets/controls",
     "model_module_version": "1.5.0",
     "model_name": "ProgressStyleModel",
     "state": {
      "_model_module": "@jupyter-widgets/controls",
      "_model_module_version": "1.5.0",
      "_model_name": "ProgressStyleModel",
      "_view_count": null,
      "_view_module": "@jupyter-widgets/base",
      "_view_module_version": "1.2.0",
      "_view_name": "StyleView",
      "bar_color": null,
      "description_width": ""
     }
    },
    "2b51862bc5294949bc7d47f23ac0234e": {
     "model_module": "@jupyter-widgets/base",
     "model_module_version": "1.2.0",
     "model_name": "LayoutModel",
     "state": {
      "_model_module": "@jupyter-widgets/base",
      "_model_module_version": "1.2.0",
      "_model_name": "LayoutModel",
      "_view_count": null,
      "_view_module": "@jupyter-widgets/base",
      "_view_module_version": "1.2.0",
      "_view_name": "LayoutView",
      "align_content": null,
      "align_items": null,
      "align_self": null,
      "border": null,
      "bottom": null,
      "display": "inline-flex",
      "flex": null,
      "flex_flow": "row wrap",
      "grid_area": null,
      "grid_auto_columns": null,
      "grid_auto_flow": null,
      "grid_auto_rows": null,
      "grid_column": null,
      "grid_gap": null,
      "grid_row": null,
      "grid_template_areas": null,
      "grid_template_columns": null,
      "grid_template_rows": null,
      "height": null,
      "justify_content": null,
      "justify_items": null,
      "left": null,
      "margin": null,
      "max_height": null,
      "max_width": null,
      "min_height": null,
      "min_width": null,
      "object_fit": null,
      "object_position": null,
      "order": null,
      "overflow": null,
      "overflow_x": null,
      "overflow_y": null,
      "padding": null,
      "right": null,
      "top": null,
      "visibility": null,
      "width": "100%"
     }
    },
    "43a96f995d274f3d8ca49d54ba73db66": {
     "model_module": "@jupyter-widgets/controls",
     "model_module_version": "1.5.0",
     "model_name": "HTMLModel",
     "state": {
      "_dom_classes": [],
      "_model_module": "@jupyter-widgets/controls",
      "_model_module_version": "1.5.0",
      "_model_name": "HTMLModel",
      "_view_count": null,
      "_view_module": "@jupyter-widgets/controls",
      "_view_module_version": "1.5.0",
      "_view_name": "HTMLView",
      "description": "",
      "description_tooltip": null,
      "layout": "IPY_MODEL_7e6e595fa9fa4d65b598daaa64b8397f",
      "placeholder": "​",
      "style": "IPY_MODEL_d47c3c4a616a4e9ba2acbb7fd4d4bd8d",
      "value": " 40/8918 [00:10&lt;37:41,  3.93it/s, loss=0.499, v_num=0, train_loss_step=0.494]"
     }
    },
    "534117316f304719b8131ebc1c827b5a": {
     "model_module": "@jupyter-widgets/base",
     "model_module_version": "1.2.0",
     "model_name": "LayoutModel",
     "state": {
      "_model_module": "@jupyter-widgets/base",
      "_model_module_version": "1.2.0",
      "_model_name": "LayoutModel",
      "_view_count": null,
      "_view_module": "@jupyter-widgets/base",
      "_view_module_version": "1.2.0",
      "_view_name": "LayoutView",
      "align_content": null,
      "align_items": null,
      "align_self": null,
      "border": null,
      "bottom": null,
      "display": null,
      "flex": "2",
      "flex_flow": null,
      "grid_area": null,
      "grid_auto_columns": null,
      "grid_auto_flow": null,
      "grid_auto_rows": null,
      "grid_column": null,
      "grid_gap": null,
      "grid_row": null,
      "grid_template_areas": null,
      "grid_template_columns": null,
      "grid_template_rows": null,
      "height": null,
      "justify_content": null,
      "justify_items": null,
      "left": null,
      "margin": null,
      "max_height": null,
      "max_width": null,
      "min_height": null,
      "min_width": null,
      "object_fit": null,
      "object_position": null,
      "order": null,
      "overflow": null,
      "overflow_x": null,
      "overflow_y": null,
      "padding": null,
      "right": null,
      "top": null,
      "visibility": null,
      "width": null
     }
    },
    "685fdda4ba6d4058aafa721cd5ef6c56": {
     "model_module": "@jupyter-widgets/base",
     "model_module_version": "1.2.0",
     "model_name": "LayoutModel",
     "state": {
      "_model_module": "@jupyter-widgets/base",
      "_model_module_version": "1.2.0",
      "_model_name": "LayoutModel",
      "_view_count": null,
      "_view_module": "@jupyter-widgets/base",
      "_view_module_version": "1.2.0",
      "_view_name": "LayoutView",
      "align_content": null,
      "align_items": null,
      "align_self": null,
      "border": null,
      "bottom": null,
      "display": "inline-flex",
      "flex": null,
      "flex_flow": "row wrap",
      "grid_area": null,
      "grid_auto_columns": null,
      "grid_auto_flow": null,
      "grid_auto_rows": null,
      "grid_column": null,
      "grid_gap": null,
      "grid_row": null,
      "grid_template_areas": null,
      "grid_template_columns": null,
      "grid_template_rows": null,
      "height": null,
      "justify_content": null,
      "justify_items": null,
      "left": null,
      "margin": null,
      "max_height": null,
      "max_width": null,
      "min_height": null,
      "min_width": null,
      "object_fit": null,
      "object_position": null,
      "order": null,
      "overflow": null,
      "overflow_x": null,
      "overflow_y": null,
      "padding": null,
      "right": null,
      "top": null,
      "visibility": null,
      "width": "100%"
     }
    },
    "6e1ff9e0a6ec4ed3af6ffde32c267872": {
     "model_module": "@jupyter-widgets/controls",
     "model_module_version": "1.5.0",
     "model_name": "HTMLModel",
     "state": {
      "_dom_classes": [],
      "_model_module": "@jupyter-widgets/controls",
      "_model_module_version": "1.5.0",
      "_model_name": "HTMLModel",
      "_view_count": null,
      "_view_module": "@jupyter-widgets/controls",
      "_view_module_version": "1.5.0",
      "_view_name": "HTMLView",
      "description": "",
      "description_tooltip": null,
      "layout": "IPY_MODEL_d673abb3b63a44f0b784fa585207824a",
      "placeholder": "​",
      "style": "IPY_MODEL_8c363d47b1d04301a72d1cfce20ab0bc",
      "value": "Epoch 0:   0%"
     }
    },
    "77f00bf0820a483c9516ea8842984b21": {
     "model_module": "@jupyter-widgets/controls",
     "model_module_version": "1.5.0",
     "model_name": "HTMLModel",
     "state": {
      "_dom_classes": [],
      "_model_module": "@jupyter-widgets/controls",
      "_model_module_version": "1.5.0",
      "_model_name": "HTMLModel",
      "_view_count": null,
      "_view_module": "@jupyter-widgets/controls",
      "_view_module_version": "1.5.0",
      "_view_name": "HTMLView",
      "description": "",
      "description_tooltip": null,
      "layout": "IPY_MODEL_0569b8be09b64e46b3818a763a5715e2",
      "placeholder": "​",
      "style": "IPY_MODEL_7cb51d5803424c2faca62100ba7c2cda",
      "value": " 0/2 [00:01&lt;?, ?it/s]"
     }
    },
    "7cb51d5803424c2faca62100ba7c2cda": {
     "model_module": "@jupyter-widgets/controls",
     "model_module_version": "1.5.0",
     "model_name": "DescriptionStyleModel",
     "state": {
      "_model_module": "@jupyter-widgets/controls",
      "_model_module_version": "1.5.0",
      "_model_name": "DescriptionStyleModel",
      "_view_count": null,
      "_view_module": "@jupyter-widgets/base",
      "_view_module_version": "1.2.0",
      "_view_name": "StyleView",
      "description_width": ""
     }
    },
    "7cce2fb34c2d4c659d0dcd1452092241": {
     "model_module": "@jupyter-widgets/base",
     "model_module_version": "1.2.0",
     "model_name": "LayoutModel",
     "state": {
      "_model_module": "@jupyter-widgets/base",
      "_model_module_version": "1.2.0",
      "_model_name": "LayoutModel",
      "_view_count": null,
      "_view_module": "@jupyter-widgets/base",
      "_view_module_version": "1.2.0",
      "_view_name": "LayoutView",
      "align_content": null,
      "align_items": null,
      "align_self": null,
      "border": null,
      "bottom": null,
      "display": null,
      "flex": "2",
      "flex_flow": null,
      "grid_area": null,
      "grid_auto_columns": null,
      "grid_auto_flow": null,
      "grid_auto_rows": null,
      "grid_column": null,
      "grid_gap": null,
      "grid_row": null,
      "grid_template_areas": null,
      "grid_template_columns": null,
      "grid_template_rows": null,
      "height": null,
      "justify_content": null,
      "justify_items": null,
      "left": null,
      "margin": null,
      "max_height": null,
      "max_width": null,
      "min_height": null,
      "min_width": null,
      "object_fit": null,
      "object_position": null,
      "order": null,
      "overflow": null,
      "overflow_x": null,
      "overflow_y": null,
      "padding": null,
      "right": null,
      "top": null,
      "visibility": null,
      "width": null
     }
    },
    "7e6e595fa9fa4d65b598daaa64b8397f": {
     "model_module": "@jupyter-widgets/base",
     "model_module_version": "1.2.0",
     "model_name": "LayoutModel",
     "state": {
      "_model_module": "@jupyter-widgets/base",
      "_model_module_version": "1.2.0",
      "_model_name": "LayoutModel",
      "_view_count": null,
      "_view_module": "@jupyter-widgets/base",
      "_view_module_version": "1.2.0",
      "_view_name": "LayoutView",
      "align_content": null,
      "align_items": null,
      "align_self": null,
      "border": null,
      "bottom": null,
      "display": null,
      "flex": null,
      "flex_flow": null,
      "grid_area": null,
      "grid_auto_columns": null,
      "grid_auto_flow": null,
      "grid_auto_rows": null,
      "grid_column": null,
      "grid_gap": null,
      "grid_row": null,
      "grid_template_areas": null,
      "grid_template_columns": null,
      "grid_template_rows": null,
      "height": null,
      "justify_content": null,
      "justify_items": null,
      "left": null,
      "margin": null,
      "max_height": null,
      "max_width": null,
      "min_height": null,
      "min_width": null,
      "object_fit": null,
      "object_position": null,
      "order": null,
      "overflow": null,
      "overflow_x": null,
      "overflow_y": null,
      "padding": null,
      "right": null,
      "top": null,
      "visibility": null,
      "width": null
     }
    },
    "8c363d47b1d04301a72d1cfce20ab0bc": {
     "model_module": "@jupyter-widgets/controls",
     "model_module_version": "1.5.0",
     "model_name": "DescriptionStyleModel",
     "state": {
      "_model_module": "@jupyter-widgets/controls",
      "_model_module_version": "1.5.0",
      "_model_name": "DescriptionStyleModel",
      "_view_count": null,
      "_view_module": "@jupyter-widgets/base",
      "_view_module_version": "1.2.0",
      "_view_name": "StyleView",
      "description_width": ""
     }
    },
    "9982d3de256c4f6590622e4519cedd8d": {
     "model_module": "@jupyter-widgets/controls",
     "model_module_version": "1.5.0",
     "model_name": "ProgressStyleModel",
     "state": {
      "_model_module": "@jupyter-widgets/controls",
      "_model_module_version": "1.5.0",
      "_model_name": "ProgressStyleModel",
      "_view_count": null,
      "_view_module": "@jupyter-widgets/base",
      "_view_module_version": "1.2.0",
      "_view_name": "StyleView",
      "bar_color": null,
      "description_width": ""
     }
    },
    "adbad04d6d8b4c899261f2de886aebdc": {
     "model_module": "@jupyter-widgets/base",
     "model_module_version": "1.2.0",
     "model_name": "LayoutModel",
     "state": {
      "_model_module": "@jupyter-widgets/base",
      "_model_module_version": "1.2.0",
      "_model_name": "LayoutModel",
      "_view_count": null,
      "_view_module": "@jupyter-widgets/base",
      "_view_module_version": "1.2.0",
      "_view_name": "LayoutView",
      "align_content": null,
      "align_items": null,
      "align_self": null,
      "border": null,
      "bottom": null,
      "display": null,
      "flex": null,
      "flex_flow": null,
      "grid_area": null,
      "grid_auto_columns": null,
      "grid_auto_flow": null,
      "grid_auto_rows": null,
      "grid_column": null,
      "grid_gap": null,
      "grid_row": null,
      "grid_template_areas": null,
      "grid_template_columns": null,
      "grid_template_rows": null,
      "height": null,
      "justify_content": null,
      "justify_items": null,
      "left": null,
      "margin": null,
      "max_height": null,
      "max_width": null,
      "min_height": null,
      "min_width": null,
      "object_fit": null,
      "object_position": null,
      "order": null,
      "overflow": null,
      "overflow_x": null,
      "overflow_y": null,
      "padding": null,
      "right": null,
      "top": null,
      "visibility": null,
      "width": null
     }
    },
    "b16713f79ae74bd6a505b6361ef73597": {
     "model_module": "@jupyter-widgets/controls",
     "model_module_version": "1.5.0",
     "model_name": "DescriptionStyleModel",
     "state": {
      "_model_module": "@jupyter-widgets/controls",
      "_model_module_version": "1.5.0",
      "_model_name": "DescriptionStyleModel",
      "_view_count": null,
      "_view_module": "@jupyter-widgets/base",
      "_view_module_version": "1.2.0",
      "_view_name": "StyleView",
      "description_width": ""
     }
    },
    "ca25eb446ae24eac9beea1a887620b44": {
     "model_module": "@jupyter-widgets/controls",
     "model_module_version": "1.5.0",
     "model_name": "HBoxModel",
     "state": {
      "_dom_classes": [],
      "_model_module": "@jupyter-widgets/controls",
      "_model_module_version": "1.5.0",
      "_model_name": "HBoxModel",
      "_view_count": null,
      "_view_module": "@jupyter-widgets/controls",
      "_view_module_version": "1.5.0",
      "_view_name": "HBoxView",
      "box_style": "",
      "children": [
       "IPY_MODEL_6e1ff9e0a6ec4ed3af6ffde32c267872",
       "IPY_MODEL_e56524b32cac4653bebbda995aa8f43d",
       "IPY_MODEL_43a96f995d274f3d8ca49d54ba73db66"
      ],
      "layout": "IPY_MODEL_2b51862bc5294949bc7d47f23ac0234e"
     }
    },
    "d47c3c4a616a4e9ba2acbb7fd4d4bd8d": {
     "model_module": "@jupyter-widgets/controls",
     "model_module_version": "1.5.0",
     "model_name": "DescriptionStyleModel",
     "state": {
      "_model_module": "@jupyter-widgets/controls",
      "_model_module_version": "1.5.0",
      "_model_name": "DescriptionStyleModel",
      "_view_count": null,
      "_view_module": "@jupyter-widgets/base",
      "_view_module_version": "1.2.0",
      "_view_name": "StyleView",
      "description_width": ""
     }
    },
    "d673abb3b63a44f0b784fa585207824a": {
     "model_module": "@jupyter-widgets/base",
     "model_module_version": "1.2.0",
     "model_name": "LayoutModel",
     "state": {
      "_model_module": "@jupyter-widgets/base",
      "_model_module_version": "1.2.0",
      "_model_name": "LayoutModel",
      "_view_count": null,
      "_view_module": "@jupyter-widgets/base",
      "_view_module_version": "1.2.0",
      "_view_name": "LayoutView",
      "align_content": null,
      "align_items": null,
      "align_self": null,
      "border": null,
      "bottom": null,
      "display": null,
      "flex": null,
      "flex_flow": null,
      "grid_area": null,
      "grid_auto_columns": null,
      "grid_auto_flow": null,
      "grid_auto_rows": null,
      "grid_column": null,
      "grid_gap": null,
      "grid_row": null,
      "grid_template_areas": null,
      "grid_template_columns": null,
      "grid_template_rows": null,
      "height": null,
      "justify_content": null,
      "justify_items": null,
      "left": null,
      "margin": null,
      "max_height": null,
      "max_width": null,
      "min_height": null,
      "min_width": null,
      "object_fit": null,
      "object_position": null,
      "order": null,
      "overflow": null,
      "overflow_x": null,
      "overflow_y": null,
      "padding": null,
      "right": null,
      "top": null,
      "visibility": null,
      "width": null
     }
    },
    "d925157f66da4e528c37d35d8b8d6f53": {
     "model_module": "@jupyter-widgets/controls",
     "model_module_version": "1.5.0",
     "model_name": "HBoxModel",
     "state": {
      "_dom_classes": [],
      "_model_module": "@jupyter-widgets/controls",
      "_model_module_version": "1.5.0",
      "_model_name": "HBoxModel",
      "_view_count": null,
      "_view_module": "@jupyter-widgets/controls",
      "_view_module_version": "1.5.0",
      "_view_name": "HBoxView",
      "box_style": "",
      "children": [
       "IPY_MODEL_149853bdda75412baab01312d6a8eaf1",
       "IPY_MODEL_e2b3d786535d40a4b2f7642021192779",
       "IPY_MODEL_77f00bf0820a483c9516ea8842984b21"
      ],
      "layout": "IPY_MODEL_685fdda4ba6d4058aafa721cd5ef6c56"
     }
    },
    "e2b3d786535d40a4b2f7642021192779": {
     "model_module": "@jupyter-widgets/controls",
     "model_module_version": "1.5.0",
     "model_name": "FloatProgressModel",
     "state": {
      "_dom_classes": [],
      "_model_module": "@jupyter-widgets/controls",
      "_model_module_version": "1.5.0",
      "_model_name": "FloatProgressModel",
      "_view_count": null,
      "_view_module": "@jupyter-widgets/controls",
      "_view_module_version": "1.5.0",
      "_view_name": "ProgressView",
      "bar_style": "danger",
      "description": "",
      "description_tooltip": null,
      "layout": "IPY_MODEL_534117316f304719b8131ebc1c827b5a",
      "max": 2,
      "min": 0,
      "orientation": "horizontal",
      "style": "IPY_MODEL_9982d3de256c4f6590622e4519cedd8d",
      "value": 0
     }
    },
    "e56524b32cac4653bebbda995aa8f43d": {
     "model_module": "@jupyter-widgets/controls",
     "model_module_version": "1.5.0",
     "model_name": "FloatProgressModel",
     "state": {
      "_dom_classes": [],
      "_model_module": "@jupyter-widgets/controls",
      "_model_module_version": "1.5.0",
      "_model_name": "FloatProgressModel",
      "_view_count": null,
      "_view_module": "@jupyter-widgets/controls",
      "_view_module_version": "1.5.0",
      "_view_name": "ProgressView",
      "bar_style": "",
      "description": "",
      "description_tooltip": null,
      "layout": "IPY_MODEL_7cce2fb34c2d4c659d0dcd1452092241",
      "max": 8918,
      "min": 0,
      "orientation": "horizontal",
      "style": "IPY_MODEL_1872af1b39e945a1909fa93dd557bc38",
      "value": 40
     }
    }
   }
  }
 },
 "nbformat": 4,
 "nbformat_minor": 1
}
